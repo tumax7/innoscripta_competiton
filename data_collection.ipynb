{
 "cells": [
  {
   "cell_type": "code",
   "execution_count": 280,
   "id": "134b72e6",
   "metadata": {},
   "outputs": [],
   "source": [
    "import requests\n",
    "import pandas as pd\n",
    "import numpy as np\n",
    "from bs4 import BeautifulSoup\n",
    "import time\n",
    "\n",
    "# headers for spoof\n",
    "headers = {'User-Agent': 'Mozilla/5.0 (Windows NT 10.0; Win64; x64) AppleWebKit/537.36 (KHTML, like Gecko) Chrome/102.0.0.0 Safari/537.36'}\n",
    "init_url = 'https://www.list-org.com'"
   ]
  },
  {
   "cell_type": "code",
   "execution_count": 263,
   "id": "7e920397",
   "metadata": {},
   "outputs": [],
   "source": [
    "# Helper functions\n",
    "def p_splitter(req_tag):\n",
    "    result = {}\n",
    "    for p in req_tag.findAll('p'):\n",
    "        req_string = p.text.split(':')\n",
    "        result[req_string[0]]=req_string[1].strip()\n",
    "    return result \n",
    "\n",
    "def get_owners(owner_tag):\n",
    "    structure = []\n",
    "    titles = [title.text for title in owner_tag.table.tr.findAll('td')]\n",
    "    for owner in owner_tag.table.findAll('tr')[1:]:\n",
    "        owner_val = {titles[i]:val.text for i,val in enumerate(owner.findAll('td'))}\n",
    "        structure.append(str(owner_val))\n",
    "    return structure\n",
    "\n",
    "def get_finance(finance_tag):\n",
    "    financial_data = []\n",
    "    all_tags = finance_tag.table.findAll('tr')[1:]\n",
    "    titles = [title.text for title in all_tags[0].findAll('td')]\n",
    "    for financial in all_tags[1:-1]:\n",
    "        financial_val = {titles[i]:val.text for i,val in enumerate(financial.findAll('td'))}\n",
    "        financial_data.append(str(financial_val))\n",
    "    return financial_data"
   ]
  },
  {
   "cell_type": "code",
   "execution_count": 7,
   "id": "80d3a20c",
   "metadata": {},
   "outputs": [],
   "source": [
    "a = requests.get('https://www.list-org.com/search?type=all&work=on&sort=&page=2', headers=headers)"
   ]
  },
  {
   "cell_type": "code",
   "execution_count": 17,
   "id": "3462af07",
   "metadata": {},
   "outputs": [],
   "source": [
    "# Finding the urls of active companies on the webpage\n",
    "soup = BeautifulSoup(a.text)\n",
    "req_urls = soup.find(\"div\", {\"class\": \"org_list\"}).findAll(\"a\")"
   ]
  },
  {
   "cell_type": "code",
   "execution_count": 23,
   "id": "0bcb9890",
   "metadata": {},
   "outputs": [],
   "source": [
    "# Loading company page\n",
    "c = requests.get(init_url+req_urls[0]['href'],headers=headers)"
   ]
  },
  {
   "cell_type": "code",
   "execution_count": 37,
   "id": "463802c0",
   "metadata": {},
   "outputs": [],
   "source": [
    "page_soup = BeautifulSoup(c.text).find(\"div\", {\"class\": \"content\"})"
   ]
  },
  {
   "cell_type": "code",
   "execution_count": 65,
   "id": "cc97725f",
   "metadata": {},
   "outputs": [],
   "source": [
    "# Skipping display:none tag\n",
    "general_info = page_soup.findAll(\"div\", {\"class\": \"card w-100 p-1 p-lg-3 mt-1\"}, recursive=False)[1].table"
   ]
  },
  {
   "cell_type": "code",
   "execution_count": 265,
   "id": "a615d275",
   "metadata": {},
   "outputs": [],
   "source": [
    "company_dict = {}\n",
    "\n",
    "for tag in general_info.findAll('tr'):\n",
    "    # Filter bad tags\n",
    "    if tag.a!=None:\n",
    "        company_dict[tag.i.text[:-1]] = tag.a.text\n",
    "    else:\n",
    "        company_dict[tag.i.text[:-1]] = tag.findAll('td')[1].text"
   ]
  },
  {
   "cell_type": "code",
   "execution_count": 266,
   "id": "9b4ec6c8",
   "metadata": {},
   "outputs": [],
   "source": [
    "# Loop over cards\n",
    "for card in page_soup.findAll(\"div\", {\"class\": \"card w-100 p-1 p-lg-3 mt-2\"}, recursive=False):\n",
    "    if card.h6.text=='Контактная информация:':\n",
    "        contact_info = p_splitter(card)\n",
    "    elif card.h6.text=='Реквизиты компании:':\n",
    "        requisites = p_splitter(card)\n",
    "    elif card.h6.text=='Учредители:':\n",
    "        # List for json\n",
    "        owner_info = get_owners(card)\n",
    "    elif card.h6.text.startswith('Результаты работы за'):\n",
    "        # List for json\n",
    "        last_year_finance_info = get_finance(card)"
   ]
  },
  {
   "cell_type": "code",
   "execution_count": 269,
   "id": "21052c67",
   "metadata": {},
   "outputs": [],
   "source": [
    "# Joining everything together\n",
    "\n",
    "company_dict.update(contact_info)\n",
    "company_dict.update(requisites)\n",
    "company_dict['owners_structure'] = owner_info\n",
    "company_dict['last_year_balance_sheet'] = last_year_finance_info"
   ]
  },
  {
   "cell_type": "code",
   "execution_count": 271,
   "id": "9c37592d",
   "metadata": {},
   "outputs": [
    {
     "data": {
      "text/plain": [
       "{'Полное юридическое наименование': 'ОТКРЫТОЕ АКЦИОНЕРНОЕ ОБЩЕСТВО  \"ФАРМСТАНДАРТ-ЛЕКСРЕДСТВА\"',\n",
       " 'Руководитель': 'Крейман Владимир Адольфович',\n",
       " 'ИНН / КПП': '4631002737 / 463201001',\n",
       " 'Уставной капитал': '22.0419 млн.руб.',\n",
       " 'Численность персонала': '1813',\n",
       " 'Количество учредителей': '1',\n",
       " 'Дата регистрации': '18.10.2002',\n",
       " 'Статус': 'Действующее',\n",
       " 'Индекс': '305909',\n",
       " 'Адрес': 'Г КУРСК,22,УЛ 2-Я АГРЕГАТНАЯ, 1 А/18',\n",
       " 'GPS координаты': '51.736690521,36.245475769',\n",
       " 'Юридический адрес': '305022, КУРСКАЯ ОБЛАСТЬ, Г. КУРСК, УЛ. АГРЕГАТНАЯ 2-Я, Д.1А/18',\n",
       " 'Телефон': '+7 (4712) 34-12-80, +7 (4712) 26-14-65, 6-14-65',\n",
       " 'Факс': '+7 (4712) 34-03-13, +7 (4712) 26-14-65',\n",
       " 'E-mail': 'ozolotukhina@icnpharm.com',\n",
       " 'Сайт': '',\n",
       " 'ИНН': '4631002737',\n",
       " 'КПП': '463201001',\n",
       " 'ОКПО': '00155547',\n",
       " 'ОГРН': '1024600945478',\n",
       " 'ОКФС': '16 - Частная собственность',\n",
       " 'ОКОГУ': '4210008 - Приватизированные предприятия',\n",
       " 'ОКОПФ': '12247 - Публичные акционерные общества',\n",
       " 'ОКТМО': '38701000001',\n",
       " 'ФСФР': '40008-A',\n",
       " 'ОКАТО': '38401369 - Железнодорожный, Курск, Города областного значения Курской области, Курская область',\n",
       " 'Предприятия рядом': 'ООО \"ЗЕЛДЕР\",  ООО \"ПРОДУКТЫ 77\",  ООО \"ЛОКОН\",  \"ЦС ЭА И ПЭС\" -  Посмотреть все на карте',\n",
       " 'owners_structure': [\"{'Наименование': 'организация с ОКПО 31239382', 'ИНН': '', 'Доля': '', 'Сумма': '22.0419 тыс.руб.'}\"],\n",
       " 'last_year_balance_sheet': [\"{'Код': 'Ф1.1110', 'Показатель': 'Нематериальные активы', 'Значение': '2639270', '': 'тыс.руб.'}\",\n",
       "  \"{'Код': 'Ф1.1120', 'Показатель': 'Результаты исследований и разработок', 'Значение': '683163', '': 'тыс.руб.'}\",\n",
       "  \"{'Код': 'Ф1.1130', 'Показатель': 'Нематериальные поисковые активы', 'Значение': '0', '': 'тыс.руб.'}\",\n",
       "  \"{'Код': 'Ф1.1140', 'Показатель': 'Материальные поисковые активы', 'Значение': '0', '': 'тыс.руб.'}\",\n",
       "  \"{'Код': 'Ф1.1150', 'Показатель': 'Основные средства', 'Значение': '4239790', '': 'тыс.руб.'}\",\n",
       "  \"{'Код': 'Ф1.1160', 'Показатель': 'Доходные вложения в материальные ценности', 'Значение': '0', '': 'тыс.руб.'}\",\n",
       "  \"{'Код': 'Ф1.1170', 'Показатель': 'Финансовые вложения', 'Значение': '31087', '': 'тыс.руб.'}\",\n",
       "  \"{'Код': 'Ф1.1180', 'Показатель': 'Отложенные налоговые активы', 'Значение': '766898', '': 'тыс.руб.'}\",\n",
       "  \"{'Код': 'Ф1.1190', 'Показатель': 'Прочие внеоборотные активы', 'Значение': '695428', '': 'тыс.руб.'}\",\n",
       "  \"{'Код': 'Ф1.1100', 'Показатель': 'Итого по разделу I - Внеоборотные активы', 'Значение': '9055640', '': 'тыс.руб.'}\",\n",
       "  \"{'Код': 'Ф1.1210', 'Показатель': 'Запасы', 'Значение': '10030600', '': 'тыс.руб.'}\",\n",
       "  \"{'Код': 'Ф1.1220', 'Показатель': 'Налог на добавленную стоимость по приобретенным ценностям', 'Значение': '1893', '': 'тыс.руб.'}\",\n",
       "  \"{'Код': 'Ф1.1230', 'Показатель': 'Дебиторская задолженность', 'Значение': '10061700', '': 'тыс.руб.'}\",\n",
       "  \"{'Код': 'Ф1.1240', 'Показатель': 'Финансовые вложения (за исключением денежных эквивалентов)', 'Значение': '0', '': 'тыс.руб.'}\",\n",
       "  \"{'Код': 'Ф1.1250', 'Показатель': 'Денежные средства и денежные эквиваленты', 'Значение': '1504', '': 'тыс.руб.'}\",\n",
       "  \"{'Код': 'Ф1.1260', 'Показатель': 'Прочие оборотные активы', 'Значение': '5797', '': 'тыс.руб.'}\",\n",
       "  \"{'Код': 'Ф1.1200', 'Показатель': 'Итого по разделу II - Оборотные активы', 'Значение': '20101500', '': 'тыс.руб.'}\",\n",
       "  \"{'Код': 'Ф1.1600', 'Показатель': 'БАЛАНС (актив)', 'Значение': '29157100', '': 'тыс.руб.'}\",\n",
       "  \"{'Код': 'Ф1.1310', 'Показатель': 'Уставный капитал (складочный капитал, уставный фонд, вклады товарищей)', 'Значение': '22042', '': 'тыс.руб.'}\",\n",
       "  \"{'Код': 'Ф1.1320', 'Показатель': 'Собственные акции, выкупленные у акционеров', 'Значение': '0', '': 'тыс.руб.'}\",\n",
       "  \"{'Код': 'Ф1.1340', 'Показатель': 'Переоценка внеоборотных активов', 'Значение': '128532', '': 'тыс.руб.'}\",\n",
       "  \"{'Код': 'Ф1.1350', 'Показатель': 'Добавочный капитал (без переоценки)', 'Значение': '81394', '': 'тыс.руб.'}\",\n",
       "  \"{'Код': 'Ф1.1360', 'Показатель': 'Резервный капитал', 'Значение': '1102', '': 'тыс.руб.'}\",\n",
       "  \"{'Код': 'Ф1.1370', 'Показатель': 'Нераспределенная прибыль (непокрытый убыток)', 'Значение': '7209790', '': 'тыс.руб.'}\",\n",
       "  \"{'Код': 'Ф1.1300', 'Показатель': 'Итого по разделу III - Капитал и резервы', 'Значение': '7442860', '': 'тыс.руб.'}\",\n",
       "  \"{'Код': 'Ф1.1410', 'Показатель': 'Заемные средства', 'Значение': '0', '': 'тыс.руб.'}\",\n",
       "  \"{'Код': 'Ф1.1420', 'Показатель': 'Отложенные налоговые обязательства', 'Значение': '1015250', '': 'тыс.руб.'}\",\n",
       "  \"{'Код': 'Ф1.1430', 'Показатель': 'Оценочные обязательства', 'Значение': '0', '': 'тыс.руб.'}\",\n",
       "  \"{'Код': 'Ф1.1450', 'Показатель': 'Прочие обязательства', 'Значение': '0', '': 'тыс.руб.'}\",\n",
       "  \"{'Код': 'Ф1.1400', 'Показатель': 'Итого по разделу IV - Долгосрочные обязательства', 'Значение': '1015250', '': 'тыс.руб.'}\",\n",
       "  \"{'Код': 'Ф1.1510', 'Показатель': 'Заемные средства', 'Значение': '0', '': 'тыс.руб.'}\",\n",
       "  \"{'Код': 'Ф1.1520', 'Показатель': 'Кредиторская задолженность', 'Значение': '20631400', '': 'тыс.руб.'}\",\n",
       "  \"{'Код': 'Ф1.1530', 'Показатель': 'Доходы будущих периодов', 'Значение': '0', '': 'тыс.руб.'}\",\n",
       "  \"{'Код': 'Ф1.1540', 'Показатель': 'Оценочные обязательства', 'Значение': '67638', '': 'тыс.руб.'}\",\n",
       "  \"{'Код': 'Ф1.1550', 'Показатель': 'Прочие обязательства', 'Значение': '0', '': 'тыс.руб.'}\",\n",
       "  \"{'Код': 'Ф1.1500', 'Показатель': 'Итого по разделу V - Краткосрочные обязательства', 'Значение': '20699000', '': 'тыс.руб.'}\",\n",
       "  \"{'Код': 'Ф1.1700', 'Показатель': 'БАЛАНС (пассив)', 'Значение': '29157100', '': 'тыс.руб.'}\",\n",
       "  \"{'Код': 'Ф2.2110', 'Показатель': 'Выручка', 'Значение': '30912700', '': 'тыс.руб.'}\",\n",
       "  \"{'Код': 'Ф2.2120', 'Показатель': 'Себестоимость продаж', 'Значение': '18201600', '': 'тыс.руб.'}\",\n",
       "  \"{'Код': 'Ф2.2100', 'Показатель': 'Валовая прибыль (убыток)', 'Значение': '12711100', '': 'тыс.руб.'}\",\n",
       "  \"{'Код': 'Ф2.2210', 'Показатель': 'Коммерческие расходы', 'Значение': '6870310', '': 'тыс.руб.'}\",\n",
       "  \"{'Код': 'Ф2.2220', 'Показатель': 'Управленческие расходы', 'Значение': '460958', '': 'тыс.руб.'}\",\n",
       "  \"{'Код': 'Ф2.2200', 'Показатель': 'Прибыль (убыток) от продаж', 'Значение': '5379840', '': 'тыс.руб.'}\",\n",
       "  \"{'Код': 'Ф2.2310', 'Показатель': 'Доходы от участия в других организациях', 'Значение': '1725', '': 'тыс.руб.'}\",\n",
       "  \"{'Код': 'Ф2.2320', 'Показатель': 'Проценты к получению', 'Значение': '367', '': 'тыс.руб.'}\",\n",
       "  \"{'Код': 'Ф2.2330', 'Показатель': 'Проценты к уплате', 'Значение': '0', '': 'тыс.руб.'}\",\n",
       "  \"{'Код': 'Ф2.2340', 'Показатель': 'Прочие доходы', 'Значение': '3392320', '': 'тыс.руб.'}\",\n",
       "  \"{'Код': 'Ф2.2350', 'Показатель': 'Прочие расходы', 'Значение': '1676690', '': 'тыс.руб.'}\",\n",
       "  \"{'Код': 'Ф2.2300', 'Показатель': 'Прибыль (убыток) до налогообложения', 'Значение': '7097560', '': 'тыс.руб.'}\",\n",
       "  \"{'Код': 'Ф2.2410', 'Показатель': 'Текущий налог на прибыль', 'Значение': '-1141800', '': 'тыс.руб.'}\",\n",
       "  \"{'Код': 'Ф2.2421', 'Показатель': 'в т.ч. постоянные налоговые обязательства (активы)', 'Значение': '0', '': 'тыс.руб.'}\",\n",
       "  \"{'Код': 'Ф2.2430', 'Показатель': 'Изменение отложенных налоговых обязательств', 'Значение': '0', '': 'тыс.руб.'}\",\n",
       "  \"{'Код': 'Ф2.2450', 'Показатель': 'Изменение отложенных налоговых активов', 'Значение': '0', '': 'тыс.руб.'}\",\n",
       "  \"{'Код': 'Ф2.2460', 'Показатель': 'Прочее', 'Значение': '-59118', '': 'тыс.руб.'}\",\n",
       "  \"{'Код': 'Ф2.2400', 'Показатель': 'Чистая прибыль (убыток)', 'Значение': '5896650', '': 'тыс.руб.'}\",\n",
       "  \"{'Код': 'Ф2.2510', 'Показатель': 'Результат от переоценки внеобор.активов, не включ.в чистую прибыль(убыток) периода', 'Значение': '2187', '': 'тыс.руб.'}\",\n",
       "  \"{'Код': 'Ф2.2520', 'Показатель': 'Результат от прочих операций, не включаемый в чистую прибыль (убыток) периода', 'Значение': '0', '': 'тыс.руб.'}\",\n",
       "  \"{'Код': 'Ф2.2500', 'Показатель': 'Совокупный финансовый результат периода', 'Значение': '5898840', '': 'тыс.руб.'}\",\n",
       "  \"{'Код': 'Ф2.2910', 'Показатель': 'Разводненная прибыль (убыток) на акцию', 'Значение': '0', '': 'тыс.руб.'}\",\n",
       "  \"{'Код': 'Ф2.2900', 'Показатель': 'Базовая прибыль (убыток) на акцию', 'Значение': '0', '': 'тыс.руб.'}\",\n",
       "  \"{'Код': 'Ф3.3600', 'Показатель': 'Чистые активы', 'Значение': '7442860', '': 'тыс.руб.'}\"]}"
      ]
     },
     "execution_count": 271,
     "metadata": {},
     "output_type": "execute_result"
    }
   ],
   "source": [
    "# Example result\n",
    "company_dict"
   ]
  },
  {
   "cell_type": "code",
   "execution_count": 284,
   "id": "9267abc5",
   "metadata": {},
   "outputs": [],
   "source": [
    "def get_company(company_url):\n",
    "    # Loading company page\n",
    "    c = requests.get(company_url,headers=headers)\n",
    "    page_soup = BeautifulSoup(c.text).find(\"div\", {\"class\": \"content\"})\n",
    "    \n",
    "    list_org_id = company_url.split('/')[-1]\n",
    "    \n",
    "    # Skipping display:none tag\n",
    "    general_info = page_soup.findAll(\"div\", {\"class\": \"card w-100 p-1 p-lg-3 mt-1\"}, recursive=False)[1].table\n",
    "    company_dict = {'list_org_id':list_org_id}\n",
    "\n",
    "    for tag in general_info.findAll('tr'):\n",
    "        # Filter bad tags\n",
    "        if tag.a!=None:\n",
    "            company_dict[tag.i.text[:-1]] = tag.a.text\n",
    "        else:\n",
    "            company_dict[tag.i.text[:-1]] = tag.findAll('td')[1].text\n",
    "    \n",
    "    # If empty\n",
    "    owner_info = '[]'\n",
    "    last_year_finance_info = '[]'\n",
    "    \n",
    "    # Loop over cards\n",
    "    for card in page_soup.findAll(\"div\", {\"class\": \"card w-100 p-1 p-lg-3 mt-2\"}, recursive=False):\n",
    "        if card.h6.text=='Контактная информация:':\n",
    "            contact_info = p_splitter(card)\n",
    "        elif card.h6.text=='Реквизиты компании:':\n",
    "            requisites = p_splitter(card)\n",
    "        elif card.h6.text=='Учредители:':\n",
    "            # List for json\n",
    "            owner_info = get_owners(card)\n",
    "        elif card.h6.text.startswith('Результаты работы за'):\n",
    "            # List for json\n",
    "            last_year_finance_info = get_finance(card)\n",
    "            \n",
    "    # Joining everything together\n",
    "\n",
    "    company_dict.update(contact_info)\n",
    "    company_dict.update(requisites)\n",
    "    company_dict['owners_structure'] = owner_info\n",
    "    company_dict['last_year_balance_sheet'] = last_year_finance_info\n",
    "    return company_dict"
   ]
  },
  {
   "cell_type": "code",
   "execution_count": 298,
   "id": "33262ab1",
   "metadata": {},
   "outputs": [
    {
     "ename": "AttributeError",
     "evalue": "'NoneType' object has no attribute 'findAll'",
     "output_type": "error",
     "traceback": [
      "\u001b[0;31m---------------------------------------------------------------------------\u001b[0m",
      "\u001b[0;31mAttributeError\u001b[0m                            Traceback (most recent call last)",
      "\u001b[0;32m/tmp/ipykernel_7489/3303051472.py\u001b[0m in \u001b[0;36m<module>\u001b[0;34m\u001b[0m\n\u001b[1;32m      5\u001b[0m     \u001b[0;31m# Finding the urls of active companies on the webpage\u001b[0m\u001b[0;34m\u001b[0m\u001b[0;34m\u001b[0m\u001b[0m\n\u001b[1;32m      6\u001b[0m     \u001b[0msoup\u001b[0m \u001b[0;34m=\u001b[0m \u001b[0mBeautifulSoup\u001b[0m\u001b[0;34m(\u001b[0m\u001b[0mpage\u001b[0m\u001b[0;34m.\u001b[0m\u001b[0mtext\u001b[0m\u001b[0;34m)\u001b[0m\u001b[0;34m\u001b[0m\u001b[0;34m\u001b[0m\u001b[0m\n\u001b[0;32m----> 7\u001b[0;31m     \u001b[0mreq_urls\u001b[0m \u001b[0;34m=\u001b[0m \u001b[0msoup\u001b[0m\u001b[0;34m.\u001b[0m\u001b[0mfind\u001b[0m\u001b[0;34m(\u001b[0m\u001b[0;34m\"div\"\u001b[0m\u001b[0;34m,\u001b[0m \u001b[0;34m{\u001b[0m\u001b[0;34m\"class\"\u001b[0m\u001b[0;34m:\u001b[0m \u001b[0;34m\"org_list\"\u001b[0m\u001b[0;34m}\u001b[0m\u001b[0;34m)\u001b[0m\u001b[0;34m.\u001b[0m\u001b[0mfindAll\u001b[0m\u001b[0;34m(\u001b[0m\u001b[0;34m\"a\"\u001b[0m\u001b[0;34m)\u001b[0m\u001b[0;34m\u001b[0m\u001b[0;34m\u001b[0m\u001b[0m\n\u001b[0m\u001b[1;32m      8\u001b[0m     \u001b[0;32mfor\u001b[0m \u001b[0murl\u001b[0m \u001b[0;32min\u001b[0m \u001b[0mreq_urls\u001b[0m\u001b[0;34m:\u001b[0m\u001b[0;34m\u001b[0m\u001b[0;34m\u001b[0m\u001b[0m\n\u001b[1;32m      9\u001b[0m         \u001b[0mcompanies\u001b[0m\u001b[0;34m.\u001b[0m\u001b[0mappend\u001b[0m\u001b[0;34m(\u001b[0m\u001b[0mget_company\u001b[0m\u001b[0;34m(\u001b[0m\u001b[0minit_url\u001b[0m\u001b[0;34m+\u001b[0m\u001b[0murl\u001b[0m\u001b[0;34m[\u001b[0m\u001b[0;34m'href'\u001b[0m\u001b[0;34m]\u001b[0m\u001b[0;34m)\u001b[0m\u001b[0;34m)\u001b[0m\u001b[0;34m\u001b[0m\u001b[0;34m\u001b[0m\u001b[0m\n",
      "\u001b[0;31mAttributeError\u001b[0m: 'NoneType' object has no attribute 'findAll'"
     ]
    }
   ],
   "source": [
    "companies = []\n",
    "# total claimed companies /50 round(4149878/50)\n",
    "for page_n in range(1,5):\n",
    "    page = requests.get(f'https://www.list-org.com/search?type=all&work=on&sort=&page={page_n}', headers=headers)\n",
    "    # Finding the urls of active companies on the webpage\n",
    "    soup = BeautifulSoup(page.text)\n",
    "    req_urls = soup.find(\"div\", {\"class\": \"org_list\"}).findAll(\"a\")\n",
    "    for url in req_urls: \n",
    "        companies.append(get_company(init_url+url['href']))\n",
    "        time.sleep(1)\n",
    "    print(f'Finished page {page_n}')"
   ]
  },
  {
   "cell_type": "code",
   "execution_count": 294,
   "id": "c60a5565",
   "metadata": {},
   "outputs": [
    {
     "name": "stdout",
     "output_type": "stream",
     "text": [
      "<class 'pandas.core.frame.DataFrame'>\n",
      "RangeIndex: 50 entries, 0 to 49\n",
      "Data columns (total 31 columns):\n",
      " #   Column                           Non-Null Count  Dtype \n",
      "---  ------                           --------------  ----- \n",
      " 0   Полное юридическое наименование  50 non-null     object\n",
      " 1   Руководитель                     50 non-null     object\n",
      " 2   ИНН / КПП                        48 non-null     object\n",
      " 3   Уставной капитал                 48 non-null     object\n",
      " 4   Численность персонала            31 non-null     object\n",
      " 5   Количество учредителей           46 non-null     object\n",
      " 6   Дата регистрации                 48 non-null     object\n",
      " 7   Статус                           48 non-null     object\n",
      " 8   Индекс                           50 non-null     object\n",
      " 9   Адрес                            50 non-null     object\n",
      " 10  GPS координаты                   41 non-null     object\n",
      " 11  Юридический адрес                50 non-null     object\n",
      " 12  Телефон                          50 non-null     object\n",
      " 13  Факс                             45 non-null     object\n",
      " 14  E-mail                           50 non-null     object\n",
      " 15  Сайт                             50 non-null     object\n",
      " 16  ИНН                              50 non-null     object\n",
      " 17  КПП                              50 non-null     object\n",
      " 18  ОКПО                             50 non-null     object\n",
      " 19  ОГРН                             50 non-null     object\n",
      " 20  ОКФС                             48 non-null     object\n",
      " 21  ОКОГУ                            48 non-null     object\n",
      " 22  ОКОПФ                            48 non-null     object\n",
      " 23  ОКТМО                            48 non-null     object\n",
      " 24  ФСФР                             31 non-null     object\n",
      " 25  ОКАТО                            50 non-null     object\n",
      " 26  Предприятия рядом                50 non-null     object\n",
      " 27  owners_structure                 50 non-null     object\n",
      " 28  last_year_balance_sheet          50 non-null     object\n",
      " 29  код ММВБ                         11 non-null     object\n",
      " 30  код РТС                          19 non-null     object\n",
      "dtypes: object(31)\n",
      "memory usage: 12.2+ KB\n"
     ]
    }
   ],
   "source": [
    "pd.DataFrame(companies).info()"
   ]
  }
 ],
 "metadata": {
  "kernelspec": {
   "display_name": "Python 3 (ipykernel)",
   "language": "python",
   "name": "python3"
  },
  "language_info": {
   "codemirror_mode": {
    "name": "ipython",
    "version": 3
   },
   "file_extension": ".py",
   "mimetype": "text/x-python",
   "name": "python",
   "nbconvert_exporter": "python",
   "pygments_lexer": "ipython3",
   "version": "3.9.13"
  }
 },
 "nbformat": 4,
 "nbformat_minor": 5
}
